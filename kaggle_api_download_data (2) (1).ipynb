{
 "cells": [
  {
   "cell_type": "markdown",
   "metadata": {},
   "source": [
    "#### First step: Make sure you have installed kaggle.\n",
    "\n",
    "    \n",
    "**! -> this means the notebook line is now a command line"
   ]
  },
  {
   "cell_type": "code",
   "execution_count": 1,
   "metadata": {},
   "outputs": [
    {
     "name": "stdout",
     "output_type": "stream",
     "text": [
      "Requirement already satisfied: kaggle in /Users/isha/opt/anaconda3/lib/python3.8/site-packages (1.5.12)\n",
      "Requirement already satisfied: six>=1.10 in /Users/isha/opt/anaconda3/lib/python3.8/site-packages (from kaggle) (1.15.0)\n",
      "Requirement already satisfied: python-dateutil in /Users/isha/opt/anaconda3/lib/python3.8/site-packages (from kaggle) (2.8.1)\n",
      "Requirement already satisfied: urllib3 in /Users/isha/opt/anaconda3/lib/python3.8/site-packages (from kaggle) (1.25.9)\n",
      "Requirement already satisfied: python-slugify in /Users/isha/opt/anaconda3/lib/python3.8/site-packages (from kaggle) (4.0.1)\n",
      "Requirement already satisfied: certifi in /Users/isha/opt/anaconda3/lib/python3.8/site-packages (from kaggle) (2020.6.20)\n",
      "Requirement already satisfied: tqdm in /Users/isha/opt/anaconda3/lib/python3.8/site-packages (from kaggle) (4.47.0)\n",
      "Requirement already satisfied: requests in /Users/isha/opt/anaconda3/lib/python3.8/site-packages (from kaggle) (2.24.0)\n",
      "Requirement already satisfied: text-unidecode>=1.3 in /Users/isha/opt/anaconda3/lib/python3.8/site-packages (from python-slugify->kaggle) (1.3)\n",
      "Requirement already satisfied: chardet<4,>=3.0.2 in /Users/isha/opt/anaconda3/lib/python3.8/site-packages (from requests->kaggle) (3.0.4)\n",
      "Requirement already satisfied: idna<3,>=2.5 in /Users/isha/opt/anaconda3/lib/python3.8/site-packages (from requests->kaggle) (2.10)\n"
     ]
    }
   ],
   "source": [
    "!pip install kaggle"
   ]
  },
  {
   "cell_type": "code",
   "execution_count": 2,
   "metadata": {},
   "outputs": [
    {
     "name": "stdout",
     "output_type": "stream",
     "text": [
      "Requirement already satisfied: kaggle in /Users/isha/opt/anaconda3/lib/python3.8/site-packages (1.5.12)\r\n",
      "Requirement already satisfied: urllib3 in /Users/isha/opt/anaconda3/lib/python3.8/site-packages (from kaggle) (1.25.9)\r\n",
      "Requirement already satisfied: certifi in /Users/isha/opt/anaconda3/lib/python3.8/site-packages (from kaggle) (2020.6.20)\r\n",
      "Requirement already satisfied: python-dateutil in /Users/isha/opt/anaconda3/lib/python3.8/site-packages (from kaggle) (2.8.1)\r\n",
      "Requirement already satisfied: python-slugify in /Users/isha/opt/anaconda3/lib/python3.8/site-packages (from kaggle) (4.0.1)\r\n",
      "Requirement already satisfied: six>=1.10 in /Users/isha/opt/anaconda3/lib/python3.8/site-packages (from kaggle) (1.15.0)\r\n",
      "Requirement already satisfied: tqdm in /Users/isha/opt/anaconda3/lib/python3.8/site-packages (from kaggle) (4.47.0)\r\n",
      "Requirement already satisfied: requests in /Users/isha/opt/anaconda3/lib/python3.8/site-packages (from kaggle) (2.24.0)\r\n",
      "Requirement already satisfied: text-unidecode>=1.3 in /Users/isha/opt/anaconda3/lib/python3.8/site-packages (from python-slugify->kaggle) (1.3)\r\n",
      "Requirement already satisfied: idna<3,>=2.5 in /Users/isha/opt/anaconda3/lib/python3.8/site-packages (from requests->kaggle) (2.10)\r\n",
      "Requirement already satisfied: chardet<4,>=3.0.2 in /Users/isha/opt/anaconda3/lib/python3.8/site-packages (from requests->kaggle) (3.0.4)\r\n"
     ]
    }
   ],
   "source": [
    "!pip install --user kaggle"
   ]
  },
  {
   "cell_type": "code",
   "execution_count": 3,
   "metadata": {},
   "outputs": [
    {
     "name": "stdout",
     "output_type": "stream",
     "text": [
      "Kaggle API 1.5.12\r\n"
     ]
    }
   ],
   "source": [
    "!kaggle --version"
   ]
  },
  {
   "cell_type": "code",
   "execution_count": null,
   "metadata": {},
   "outputs": [],
   "source": [
    "#!pip uninstall kaggle\n"
   ]
  },
  {
   "cell_type": "code",
   "execution_count": null,
   "metadata": {},
   "outputs": [],
   "source": [
    "### Second Step: Create an account on kaggle\n",
    "\n",
    "      Third Step: Under little profile picture >> select 'Account' option \n",
    "\n",
    "      Fourth Step: Under Account >> scroll down to the middle of the site and you will have 'Create API token'\n"
   ]
  },
  {
   "cell_type": "code",
   "execution_count": 20,
   "metadata": {},
   "outputs": [],
   "source": [
    "!chmod 600 ~/.kaggle/kaggle.json\n",
    "\n"
   ]
  },
  {
   "cell_type": "code",
   "execution_count": 21,
   "metadata": {},
   "outputs": [],
   "source": [
    "!chmod 600 ~/.kaggle/kaggle.json"
   ]
  },
  {
   "cell_type": "code",
   "execution_count": 22,
   "metadata": {},
   "outputs": [
    {
     "name": "stdout",
     "output_type": "stream",
     "text": [
      "ref                                            deadline             category            reward  teamCount  userHasEntered  \r\n",
      "---------------------------------------------  -------------------  ---------------  ---------  ---------  --------------  \r\n",
      "contradictory-my-dear-watson                   2030-07-01 23:59:00  Getting Started     Prizes         81           False  \r\n",
      "gan-getting-started                            2030-07-01 23:59:00  Getting Started     Prizes        115           False  \r\n",
      "store-sales-time-series-forecasting            2030-06-30 23:59:00  Getting Started  Knowledge        861           False  \r\n",
      "tpu-getting-started                            2030-06-03 23:59:00  Getting Started  Knowledge        172           False  \r\n",
      "digit-recognizer                               2030-01-01 00:00:00  Getting Started  Knowledge       1894           False  \r\n",
      "titanic                                        2030-01-01 00:00:00  Getting Started  Knowledge      13861           False  \r\n",
      "house-prices-advanced-regression-techniques    2030-01-01 00:00:00  Getting Started  Knowledge       5029           False  \r\n",
      "connectx                                       2030-01-01 00:00:00  Getting Started  Knowledge        219           False  \r\n",
      "nlp-getting-started                            2030-01-01 00:00:00  Getting Started  Knowledge        859           False  \r\n",
      "competitive-data-science-predict-future-sales  2022-12-31 23:59:00  Playground           Kudos      13434           False  \r\n",
      "ubiquant-market-prediction                     2022-04-18 23:59:00  Featured          $100,000        564           False  \r\n",
      "feedback-prize-2021                            2022-03-15 23:59:00  Featured          $160,000        984           False  \r\n",
      "tensorflow-great-barrier-reef                  2022-02-14 23:59:00  Research          $150,000       1729           False  \r\n",
      "jigsaw-toxic-severity-rating                   2022-02-07 23:59:00  Featured           $50,000       2112           False  \r\n",
      "g-research-crypto-forecasting                  2022-02-01 23:59:00  Featured          $125,000       1979            True  \r\n",
      "tabular-playground-series-jan-2022             2022-01-31 23:59:00  Playground           Kudos       1340           False  \r\n",
      "petfinder-pawpularity-score                    2022-01-14 23:59:00  Research           $25,000       3537            True  \r\n",
      "santa-2021                                     2022-01-12 23:59:00  Featured           $25,000        867           False  \r\n",
      "optiver-realized-volatility-prediction         2022-01-10 18:36:00  Featured          $100,000       3852           False  \r\n",
      "nfl-big-data-bowl-2022                         2022-01-06 23:59:00  Analytics         $100,000          0           False  \r\n"
     ]
    }
   ],
   "source": [
    "!kaggle competitions list"
   ]
  },
  {
   "cell_type": "code",
   "execution_count": 23,
   "metadata": {},
   "outputs": [
    {
     "name": "stdout",
     "output_type": "stream",
     "text": [
      "Downloading high-frequency-crypto-limit-order-book-data.zip to /Users/isha/Data Importing Files\n",
      "100%|███████████████████████████████████████▊| 989M/993M [00:13<00:00, 83.1MB/s]\n",
      "100%|████████████████████████████████████████| 993M/993M [00:13<00:00, 77.1MB/s]\n"
     ]
    }
   ],
   "source": [
    "!kaggle datasets download -d martinsn/high-frequency-crypto-limit-order-book-data"
   ]
  },
  {
   "cell_type": "code",
   "execution_count": 30,
   "metadata": {},
   "outputs": [
    {
     "name": "stdout",
     "output_type": "stream",
     "text": [
      "401 - Unauthorized\r\n"
     ]
    }
   ],
   "source": [
    "!kaggle datasets list"
   ]
  },
  {
   "cell_type": "code",
   "execution_count": 19,
   "metadata": {},
   "outputs": [
    {
     "name": "stdout",
     "output_type": "stream",
     "text": [
      "401 - Unauthorized\r\n"
     ]
    }
   ],
   "source": [
    "!kaggle datasets list"
   ]
  },
  {
   "cell_type": "code",
   "execution_count": 4,
   "metadata": {},
   "outputs": [
    {
     "name": "stdout",
     "output_type": "stream",
     "text": [
      "Archive:  reddit-wallstreetsbets-posts.zip\n",
      "  inflating: reddit_wsb.csv          \n"
     ]
    }
   ],
   "source": [
    "!unzip reddit-wallstreetsbets-posts.zip\n"
   ]
  },
  {
   "cell_type": "code",
   "execution_count": 24,
   "metadata": {},
   "outputs": [],
   "source": [
    "#from .kaggle_api import KaggleApi\n",
    "#from kaggle.api.kaggle_api_extended import KaggleApi\n",
    "\n",
    "#api = KaggleApi('write your key here')\n",
    "#api.authenticate()"
   ]
  },
  {
   "cell_type": "code",
   "execution_count": null,
   "metadata": {},
   "outputs": [],
   "source": []
  }
 ],
 "metadata": {
  "kernelspec": {
   "display_name": "Python 3",
   "language": "python",
   "name": "python3"
  },
  "language_info": {
   "codemirror_mode": {
    "name": "ipython",
    "version": 3
   },
   "file_extension": ".py",
   "mimetype": "text/x-python",
   "name": "python",
   "nbconvert_exporter": "python",
   "pygments_lexer": "ipython3",
   "version": "3.8.8"
  }
 },
 "nbformat": 4,
 "nbformat_minor": 4
}
